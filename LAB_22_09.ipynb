{
  "nbformat": 4,
  "nbformat_minor": 0,
  "metadata": {
    "colab": {
      "provenance": [],
      "authorship_tag": "ABX9TyOJVdAJ0l1DenWaJLCUHcPJ",
      "include_colab_link": true
    },
    "kernelspec": {
      "name": "python3",
      "display_name": "Python 3"
    },
    "language_info": {
      "name": "python"
    }
  },
  "cells": [
    {
      "cell_type": "markdown",
      "metadata": {
        "id": "view-in-github",
        "colab_type": "text"
      },
      "source": [
        "<a href=\"https://colab.research.google.com/github/IgorNascimentoDEV/Analise-dados/blob/main/LAB_22_09.ipynb\" target=\"_parent\"><img src=\"https://colab.research.google.com/assets/colab-badge.svg\" alt=\"Open In Colab\"/></a>"
      ]
    },
    {
      "cell_type": "markdown",
      "source": [
        "**Importar Bibliotecas**"
      ],
      "metadata": {
        "id": "jNgqn_twNB83"
      }
    },
    {
      "cell_type": "code",
      "execution_count": 6,
      "metadata": {
        "id": "jhjzkZjHMwwW"
      },
      "outputs": [],
      "source": [
        "import pandas as pd\n",
        "import numpy as np\n"
      ]
    },
    {
      "cell_type": "markdown",
      "source": [
        "**Realizando a Leitura e entendendo os Arquivos csv**"
      ],
      "metadata": {
        "id": "qwjifv8SR4GQ"
      }
    },
    {
      "cell_type": "code",
      "source": [
        "# Carregar dados de empresas inativas\n",
        "dadosEmpresasInativas = pd.read_csv('/content/empresasinativender.csv', delimiter=';')\n",
        "\n",
        "# Carregar dados de empresas ativas\n",
        "dadosEmpresasAtivas = pd.read_csv('/content/empresasativender.csv', delimiter=';')"
      ],
      "metadata": {
        "id": "cmBMGjVTNFvT"
      },
      "execution_count": null,
      "outputs": []
    },
    {
      "cell_type": "code",
      "source": [
        "#Analisando as conlunas da planilha\n",
        "print('Empresa Inativas\\n')\n",
        "print(dadosEmpresasInativas.columns)\n",
        "\n",
        "print('\\n\\n')\n",
        "\n",
        "print('Empresas Ativas\\n')\n",
        "print(dadosEmpresasAtivas.columns)"
      ],
      "metadata": {
        "id": "X9K9AQnHVz5D"
      },
      "execution_count": null,
      "outputs": []
    },
    {
      "cell_type": "code",
      "source": [
        "# Examimando as primeiras linhas do DataFrame\n",
        "print('Empresas Inativas\\n')\n",
        "print(dadosEmpresasInativas.head())\n",
        "\n",
        "print('\\n\\n')\n",
        "\n",
        "print('Empresas Ativas\\n')\n",
        "print(dadosEmpresasAtivas.head())"
      ],
      "metadata": {
        "id": "-VqyvH3OSKRY"
      },
      "execution_count": null,
      "outputs": []
    },
    {
      "cell_type": "code",
      "source": [
        "# Obtendo informações sobre os DataFrames\n",
        "print('Empresas Inativas\\n')\n",
        "print(dadosEmpresasInativas.info())\n",
        "\n",
        "print('\\n\\n')\n",
        "\n",
        "print('Empresas Ativas\\n')\n",
        "print(dadosEmpresasAtivas.info())"
      ],
      "metadata": {
        "id": "_KsWy0brSbs1"
      },
      "execution_count": null,
      "outputs": []
    },
    {
      "cell_type": "code",
      "source": [
        "# Verificando estatísticas resumidas dos DataFrames\n",
        "print('Empresas Inativas\\n')\n",
        "print(dadosEmpresasInativas.describe())\n",
        "\n",
        "print('\\n\\n')\n",
        "\n",
        "\n",
        "print('Empresas Ativas\\n')\n",
        "print(dadosEmpresasAtivas.describe())"
      ],
      "metadata": {
        "id": "7vLsLMf1TGBe"
      },
      "execution_count": null,
      "outputs": []
    },
    {
      "cell_type": "markdown",
      "source": [
        "**Pré-Processamento e normalização**"
      ],
      "metadata": {
        "id": "zHK5TA_uTY8z"
      }
    },
    {
      "cell_type": "code",
      "source": [
        "# Verificando valores nulos nos DataFrames\n",
        "print('Empresas Inativas\\n')\n",
        "print(dadosEmpresasInativas.isnull().sum())\n",
        "\n",
        "print('\\n\\n')\n",
        "\n",
        "print('Empresas Ativas\\n')\n",
        "print(dadosEmpresasAtivas.isnull().sum())"
      ],
      "metadata": {
        "colab": {
          "base_uri": "https://localhost:8080/"
        },
        "id": "pJ9XgGOeTd8-",
        "outputId": "f420841d-b982-4574-dfd4-daa51bbfa95c"
      },
      "execution_count": 60,
      "outputs": [
        {
          "output_type": "stream",
          "name": "stdout",
          "text": [
            "Empresas Inativas\n",
            "\n",
            "cnpj                            0\n",
            "razao_social                    0\n",
            "nome_fantasia                   0\n",
            "cod_logradouro                  0\n",
            "nome_logradouro                 0\n",
            "numero_residencia          169443\n",
            "numero_lote                 17771\n",
            "cod_bairro                      0\n",
            "nome_bairro                     0\n",
            "situacao_empresa                0\n",
            "data_abertura_empresa           0\n",
            "data_encerramento          293692\n",
            "cod_grupo                       0\n",
            "nome_grupo                      0\n",
            "cnae                            0\n",
            "desc_atividade                  0\n",
            "atividade_principal             0\n",
            "atividade_vig_sanitaria         0\n",
            "atividade_predominante          0\n",
            "incomodo                        0\n",
            "latitude                    37228\n",
            "longitude                   37228\n",
            "dtype: int64\n",
            "\n",
            "\n",
            "\n",
            "Empresas Ativas\n",
            "\n",
            "cnpj                            0\n",
            "razao_social                    0\n",
            "nome_fantasia                   0\n",
            "cod_logradouro                  0\n",
            "nome_logradouro                 0\n",
            "numero_residencia          169657\n",
            "numero_lote                 11541\n",
            "cod_bairro                      0\n",
            "nome_bairro                     0\n",
            "situacao_empresa                0\n",
            "data_abertura_empresa      317572\n",
            "data_encerramento          317572\n",
            "cod_grupo                       0\n",
            "nome_grupo                      0\n",
            "cnae                            0\n",
            "desc_atividade                  0\n",
            "atividade_principal             0\n",
            "atividade_vig_sanitaria         0\n",
            "atividade_predominante          0\n",
            "incomodo                        0\n",
            "latitude                    32669\n",
            "longitude                   32669\n",
            "dtype: int64\n"
          ]
        }
      ]
    },
    {
      "cell_type": "code",
      "source": [
        "# Tratando os valores nulos\n",
        "\n",
        "valor = 'Não Informado'\n",
        "\n",
        "dadosEmpresasInativas.fillna(valor, inplace=True)\n",
        "dadosEmpresasAtivas.fillna(valor, inplace=True)\n"
      ],
      "metadata": {
        "id": "mkDdtY2KU9al"
      },
      "execution_count": 55,
      "outputs": []
    },
    {
      "cell_type": "code",
      "source": [
        "# As colunas data_abertura_empresa e data_encerramento contêm datas,convertendo as para o tipo de dados DateTime\n",
        "\n",
        "# Substitua \"Não Informado\" por NaN nas colunas de data\n",
        "dadosEmpresasInativas['data_abertura_empresa'] = dadosEmpresasInativas['data_abertura_empresa'].replace('Não Informado', np.nan)\n",
        "dadosEmpresasInativas['data_encerramento'] = dadosEmpresasInativas['data_encerramento'].replace('Não Informado', np.nan)\n",
        "\n",
        "dadosEmpresasAtivas['data_abertura_empresa'] = dadosEmpresasAtivas['data_abertura_empresa'].replace('Não Informado', np.nan)\n",
        "dadosEmpresasAtivas['data_encerramento'] = dadosEmpresasAtivas['data_encerramento'].replace('Não Informado', np.nan)\n",
        "\n",
        "# Converta as colunas para o tipo DateTime\n",
        "dadosEmpresasInativas['data_abertura_empresa'] = pd.to_datetime(dadosEmpresasInativas['data_abertura_empresa'], format='%d/%m/%Y', errors='coerce')\n",
        "dadosEmpresasInativas['data_encerramento'] = pd.to_datetime(dadosEmpresasInativas['data_encerramento'], format='%d/%m/%Y', errors='coerce')\n",
        "\n",
        "dadosEmpresasAtivas['data_abertura_empresa'] = pd.to_datetime(dadosEmpresasAtivas['data_abertura_empresa'], format='%d/%m/%Y', errors='coerce')\n",
        "dadosEmpresasAtivas['data_encerramento'] = pd.to_datetime(dadosEmpresasAtivas['data_encerramento'], format='%d/%m/%Y', errors='coerce')\n"
      ],
      "metadata": {
        "id": "wVPhY6V6Y0qX"
      },
      "execution_count": 57,
      "outputs": []
    },
    {
      "cell_type": "code",
      "source": [
        "# As colunas numero_residencia, numero_lote, latitude, e longitude contêm números\n",
        "# Tratando os valores não numéricos e convertendo para float\n",
        "dadosEmpresasInativas['numero_residencia'] = pd.to_numeric(dadosEmpresasInativas['numero_residencia'], errors='coerce')\n",
        "dadosEmpresasInativas['numero_lote'] = pd.to_numeric(dadosEmpresasInativas['numero_lote'], errors='coerce')\n",
        "dadosEmpresasInativas['latitude'] = pd.to_numeric(dadosEmpresasInativas['latitude'], errors='coerce')\n",
        "dadosEmpresasInativas['longitude'] = pd.to_numeric(dadosEmpresasInativas['longitude'], errors='coerce')\n",
        "\n",
        "dadosEmpresasAtivas['numero_residencia'] = pd.to_numeric(dadosEmpresasAtivas['numero_residencia'], errors='coerce')\n",
        "dadosEmpresasAtivas['numero_lote'] = pd.to_numeric(dadosEmpresasAtivas['numero_lote'], errors='coerce')\n",
        "dadosEmpresasAtivas['latitude'] = pd.to_numeric(dadosEmpresasAtivas['latitude'], errors='coerce')\n",
        "dadosEmpresasAtivas['longitude'] = pd.to_numeric(dadosEmpresasAtivas['longitude'], errors='coerce')\n"
      ],
      "metadata": {
        "id": "BAxnoq75Zvpi"
      },
      "execution_count": 59,
      "outputs": []
    },
    {
      "cell_type": "code",
      "source": [
        "# Dados pré-processados\n",
        "print('Empresas Inativas\\n')\n",
        "dadosEmpresasInativas"
      ],
      "metadata": {
        "id": "3-tHu5sxZ79O"
      },
      "execution_count": null,
      "outputs": []
    },
    {
      "cell_type": "code",
      "source": [
        "# Dados pré-processados\n",
        "print('Empresas Ativas\\n')\n",
        "dadosEmpresasAtivas"
      ],
      "metadata": {
        "id": "LswqZX68Z_50"
      },
      "execution_count": null,
      "outputs": []
    }
  ]
}