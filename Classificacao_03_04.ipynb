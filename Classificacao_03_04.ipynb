{
  "nbformat": 4,
  "nbformat_minor": 0,
  "metadata": {
    "colab": {
      "provenance": [],
      "include_colab_link": true
    },
    "kernelspec": {
      "name": "python3",
      "display_name": "Python 3"
    },
    "language_info": {
      "name": "python"
    }
  },
  "cells": [
    {
      "cell_type": "markdown",
      "metadata": {
        "id": "view-in-github",
        "colab_type": "text"
      },
      "source": [
        "<a href=\"https://colab.research.google.com/github/IgorNascimentoDEV/Analise-dados/blob/main/Classificacao_03_04.ipynb\" target=\"_parent\"><img src=\"https://colab.research.google.com/assets/colab-badge.svg\" alt=\"Open In Colab\"/></a>"
      ]
    },
    {
      "cell_type": "code",
      "source": [
        "from google.colab import drive\n",
        "drive.mount('/content/drive')"
      ],
      "metadata": {
        "id": "qsDRG3auVpJu",
        "outputId": "69e20e88-231a-4485-feb2-8719de12ff74",
        "colab": {
          "base_uri": "https://localhost:8080/"
        }
      },
      "execution_count": 1,
      "outputs": [
        {
          "output_type": "stream",
          "name": "stdout",
          "text": [
            "Mounted at /content/drive\n"
          ]
        }
      ]
    },
    {
      "cell_type": "markdown",
      "source": [
        "Prática 1 : **Exemplo** com Aprendizagem Supervisionada - CLASSIFICAÇÃO"
      ],
      "metadata": {
        "id": "A2pv06v8L5A1"
      }
    },
    {
      "cell_type": "markdown",
      "source": [
        "**Link para a base de dados Diabetes:**[ Acesse aqui](https://senacpernambuco-my.sharepoint.com/:f:/g/personal/rafaella_nascimento_pe_senac_br/EjqdmiOUJ19NnXCHPxFlxf0BTu1QPf8j0GaRTJ7uVxNJhw?e=NcEaOv)"
      ],
      "metadata": {
        "id": "JpftTuDKNnJa"
      }
    },
    {
      "cell_type": "code",
      "execution_count": 2,
      "metadata": {
        "id": "mOXuUYseeJIH"
      },
      "outputs": [],
      "source": [
        "# Importando Pandas: Para manipulação de dados\n",
        "import pandas as pd"
      ]
    },
    {
      "cell_type": "code",
      "source": [
        "# Guardando os dados do CSV carregado em um Dataframe Pandas\n",
        "dados = pd.read_csv('/content/drive/MyDrive/Dataset-Mental-Disorders.csv', sep=',')"
      ],
      "metadata": {
        "id": "Y6Gll9d3eqay"
      },
      "execution_count": 3,
      "outputs": []
    },
    {
      "cell_type": "code",
      "source": [
        "# Mostrar quantidade de Linhas x Colunas (estrutura bidimensional da base de dados)\n",
        "dados.shape"
      ],
      "metadata": {
        "id": "YFwS5Wz6e1gi",
        "colab": {
          "base_uri": "https://localhost:8080/"
        },
        "outputId": "4925583e-2195-4f14-f667-204371049e6c"
      },
      "execution_count": 4,
      "outputs": [
        {
          "output_type": "execute_result",
          "data": {
            "text/plain": [
              "(120, 19)"
            ]
          },
          "metadata": {},
          "execution_count": 4
        }
      ]
    },
    {
      "cell_type": "code",
      "source": [
        "# Mostrar base de dados\n",
        "dados.head()\n",
        "#dados.sample(5)"
      ],
      "metadata": {
        "id": "BJY5epq2e6qf",
        "colab": {
          "base_uri": "https://localhost:8080/",
          "height": 365
        },
        "outputId": "d665c4ee-64dc-469b-c682-e06c2747ce52"
      },
      "execution_count": 5,
      "outputs": [
        {
          "output_type": "execute_result",
          "data": {
            "text/plain": [
              "  Patient Number    Sadness    Euphoric  Exhausted Sleep dissorder Mood Swing  \\\n",
              "0     Patiant-01    Usually      Seldom  Sometimes       Sometimes        YES   \n",
              "1     Patiant-02    Usually      Seldom    Usually       Sometimes         NO   \n",
              "2     Patiant-03  Sometimes  Most-Often  Sometimes       Sometimes        YES   \n",
              "3     Patiant-04    Usually      Seldom    Usually      Most-Often        YES   \n",
              "4     Patiant-05    Usually     Usually  Sometimes       Sometimes         NO   \n",
              "\n",
              "  Suicidal thoughts Anorxia Authority Respect Try-Explanation  \\\n",
              "0              YES       NO                NO             YES   \n",
              "1               YES      NO                NO              NO   \n",
              "2                NO      NO                NO             YES   \n",
              "3               YES     YES                NO             YES   \n",
              "4                NO      NO                NO              NO   \n",
              "\n",
              "  Aggressive Response Ignore & Move-On Nervous Break-down Admit Mistakes  \\\n",
              "0                  NO               NO                YES            YES   \n",
              "1                  NO               NO                 NO             NO   \n",
              "2                 YES               NO                YES            YES   \n",
              "3                  NO               NO                 NO             NO   \n",
              "4                  NO               NO                YES            YES   \n",
              "\n",
              "  Overthinking Sexual Activity Concentration  Optimisim Expert Diagnose  \n",
              "0          YES       3 From 10     3 From 10  4 From 10  Bipolar Type-2  \n",
              "1           NO       4 From 10     2 From 10  5 From 10      Depression  \n",
              "2           NO       6 From 10     5 From 10  7 From 10  Bipolar Type-1  \n",
              "3           NO       3 From 10     2 From 10  2 From 10  Bipolar Type-2  \n",
              "4          YES       5 From 10     5 From 10  6 From 10          Normal  "
            ],
            "text/html": [
              "\n",
              "  <div id=\"df-66636e46-d69f-4d9c-8d5d-54f3c2f705b3\" class=\"colab-df-container\">\n",
              "    <div>\n",
              "<style scoped>\n",
              "    .dataframe tbody tr th:only-of-type {\n",
              "        vertical-align: middle;\n",
              "    }\n",
              "\n",
              "    .dataframe tbody tr th {\n",
              "        vertical-align: top;\n",
              "    }\n",
              "\n",
              "    .dataframe thead th {\n",
              "        text-align: right;\n",
              "    }\n",
              "</style>\n",
              "<table border=\"1\" class=\"dataframe\">\n",
              "  <thead>\n",
              "    <tr style=\"text-align: right;\">\n",
              "      <th></th>\n",
              "      <th>Patient Number</th>\n",
              "      <th>Sadness</th>\n",
              "      <th>Euphoric</th>\n",
              "      <th>Exhausted</th>\n",
              "      <th>Sleep dissorder</th>\n",
              "      <th>Mood Swing</th>\n",
              "      <th>Suicidal thoughts</th>\n",
              "      <th>Anorxia</th>\n",
              "      <th>Authority Respect</th>\n",
              "      <th>Try-Explanation</th>\n",
              "      <th>Aggressive Response</th>\n",
              "      <th>Ignore &amp; Move-On</th>\n",
              "      <th>Nervous Break-down</th>\n",
              "      <th>Admit Mistakes</th>\n",
              "      <th>Overthinking</th>\n",
              "      <th>Sexual Activity</th>\n",
              "      <th>Concentration</th>\n",
              "      <th>Optimisim</th>\n",
              "      <th>Expert Diagnose</th>\n",
              "    </tr>\n",
              "  </thead>\n",
              "  <tbody>\n",
              "    <tr>\n",
              "      <th>0</th>\n",
              "      <td>Patiant-01</td>\n",
              "      <td>Usually</td>\n",
              "      <td>Seldom</td>\n",
              "      <td>Sometimes</td>\n",
              "      <td>Sometimes</td>\n",
              "      <td>YES</td>\n",
              "      <td>YES</td>\n",
              "      <td>NO</td>\n",
              "      <td>NO</td>\n",
              "      <td>YES</td>\n",
              "      <td>NO</td>\n",
              "      <td>NO</td>\n",
              "      <td>YES</td>\n",
              "      <td>YES</td>\n",
              "      <td>YES</td>\n",
              "      <td>3 From 10</td>\n",
              "      <td>3 From 10</td>\n",
              "      <td>4 From 10</td>\n",
              "      <td>Bipolar Type-2</td>\n",
              "    </tr>\n",
              "    <tr>\n",
              "      <th>1</th>\n",
              "      <td>Patiant-02</td>\n",
              "      <td>Usually</td>\n",
              "      <td>Seldom</td>\n",
              "      <td>Usually</td>\n",
              "      <td>Sometimes</td>\n",
              "      <td>NO</td>\n",
              "      <td>YES</td>\n",
              "      <td>NO</td>\n",
              "      <td>NO</td>\n",
              "      <td>NO</td>\n",
              "      <td>NO</td>\n",
              "      <td>NO</td>\n",
              "      <td>NO</td>\n",
              "      <td>NO</td>\n",
              "      <td>NO</td>\n",
              "      <td>4 From 10</td>\n",
              "      <td>2 From 10</td>\n",
              "      <td>5 From 10</td>\n",
              "      <td>Depression</td>\n",
              "    </tr>\n",
              "    <tr>\n",
              "      <th>2</th>\n",
              "      <td>Patiant-03</td>\n",
              "      <td>Sometimes</td>\n",
              "      <td>Most-Often</td>\n",
              "      <td>Sometimes</td>\n",
              "      <td>Sometimes</td>\n",
              "      <td>YES</td>\n",
              "      <td>NO</td>\n",
              "      <td>NO</td>\n",
              "      <td>NO</td>\n",
              "      <td>YES</td>\n",
              "      <td>YES</td>\n",
              "      <td>NO</td>\n",
              "      <td>YES</td>\n",
              "      <td>YES</td>\n",
              "      <td>NO</td>\n",
              "      <td>6 From 10</td>\n",
              "      <td>5 From 10</td>\n",
              "      <td>7 From 10</td>\n",
              "      <td>Bipolar Type-1</td>\n",
              "    </tr>\n",
              "    <tr>\n",
              "      <th>3</th>\n",
              "      <td>Patiant-04</td>\n",
              "      <td>Usually</td>\n",
              "      <td>Seldom</td>\n",
              "      <td>Usually</td>\n",
              "      <td>Most-Often</td>\n",
              "      <td>YES</td>\n",
              "      <td>YES</td>\n",
              "      <td>YES</td>\n",
              "      <td>NO</td>\n",
              "      <td>YES</td>\n",
              "      <td>NO</td>\n",
              "      <td>NO</td>\n",
              "      <td>NO</td>\n",
              "      <td>NO</td>\n",
              "      <td>NO</td>\n",
              "      <td>3 From 10</td>\n",
              "      <td>2 From 10</td>\n",
              "      <td>2 From 10</td>\n",
              "      <td>Bipolar Type-2</td>\n",
              "    </tr>\n",
              "    <tr>\n",
              "      <th>4</th>\n",
              "      <td>Patiant-05</td>\n",
              "      <td>Usually</td>\n",
              "      <td>Usually</td>\n",
              "      <td>Sometimes</td>\n",
              "      <td>Sometimes</td>\n",
              "      <td>NO</td>\n",
              "      <td>NO</td>\n",
              "      <td>NO</td>\n",
              "      <td>NO</td>\n",
              "      <td>NO</td>\n",
              "      <td>NO</td>\n",
              "      <td>NO</td>\n",
              "      <td>YES</td>\n",
              "      <td>YES</td>\n",
              "      <td>YES</td>\n",
              "      <td>5 From 10</td>\n",
              "      <td>5 From 10</td>\n",
              "      <td>6 From 10</td>\n",
              "      <td>Normal</td>\n",
              "    </tr>\n",
              "  </tbody>\n",
              "</table>\n",
              "</div>\n",
              "    <div class=\"colab-df-buttons\">\n",
              "\n",
              "  <div class=\"colab-df-container\">\n",
              "    <button class=\"colab-df-convert\" onclick=\"convertToInteractive('df-66636e46-d69f-4d9c-8d5d-54f3c2f705b3')\"\n",
              "            title=\"Convert this dataframe to an interactive table.\"\n",
              "            style=\"display:none;\">\n",
              "\n",
              "  <svg xmlns=\"http://www.w3.org/2000/svg\" height=\"24px\" viewBox=\"0 -960 960 960\">\n",
              "    <path d=\"M120-120v-720h720v720H120Zm60-500h600v-160H180v160Zm220 220h160v-160H400v160Zm0 220h160v-160H400v160ZM180-400h160v-160H180v160Zm440 0h160v-160H620v160ZM180-180h160v-160H180v160Zm440 0h160v-160H620v160Z\"/>\n",
              "  </svg>\n",
              "    </button>\n",
              "\n",
              "  <style>\n",
              "    .colab-df-container {\n",
              "      display:flex;\n",
              "      gap: 12px;\n",
              "    }\n",
              "\n",
              "    .colab-df-convert {\n",
              "      background-color: #E8F0FE;\n",
              "      border: none;\n",
              "      border-radius: 50%;\n",
              "      cursor: pointer;\n",
              "      display: none;\n",
              "      fill: #1967D2;\n",
              "      height: 32px;\n",
              "      padding: 0 0 0 0;\n",
              "      width: 32px;\n",
              "    }\n",
              "\n",
              "    .colab-df-convert:hover {\n",
              "      background-color: #E2EBFA;\n",
              "      box-shadow: 0px 1px 2px rgba(60, 64, 67, 0.3), 0px 1px 3px 1px rgba(60, 64, 67, 0.15);\n",
              "      fill: #174EA6;\n",
              "    }\n",
              "\n",
              "    .colab-df-buttons div {\n",
              "      margin-bottom: 4px;\n",
              "    }\n",
              "\n",
              "    [theme=dark] .colab-df-convert {\n",
              "      background-color: #3B4455;\n",
              "      fill: #D2E3FC;\n",
              "    }\n",
              "\n",
              "    [theme=dark] .colab-df-convert:hover {\n",
              "      background-color: #434B5C;\n",
              "      box-shadow: 0px 1px 3px 1px rgba(0, 0, 0, 0.15);\n",
              "      filter: drop-shadow(0px 1px 2px rgba(0, 0, 0, 0.3));\n",
              "      fill: #FFFFFF;\n",
              "    }\n",
              "  </style>\n",
              "\n",
              "    <script>\n",
              "      const buttonEl =\n",
              "        document.querySelector('#df-66636e46-d69f-4d9c-8d5d-54f3c2f705b3 button.colab-df-convert');\n",
              "      buttonEl.style.display =\n",
              "        google.colab.kernel.accessAllowed ? 'block' : 'none';\n",
              "\n",
              "      async function convertToInteractive(key) {\n",
              "        const element = document.querySelector('#df-66636e46-d69f-4d9c-8d5d-54f3c2f705b3');\n",
              "        const dataTable =\n",
              "          await google.colab.kernel.invokeFunction('convertToInteractive',\n",
              "                                                    [key], {});\n",
              "        if (!dataTable) return;\n",
              "\n",
              "        const docLinkHtml = 'Like what you see? Visit the ' +\n",
              "          '<a target=\"_blank\" href=https://colab.research.google.com/notebooks/data_table.ipynb>data table notebook</a>'\n",
              "          + ' to learn more about interactive tables.';\n",
              "        element.innerHTML = '';\n",
              "        dataTable['output_type'] = 'display_data';\n",
              "        await google.colab.output.renderOutput(dataTable, element);\n",
              "        const docLink = document.createElement('div');\n",
              "        docLink.innerHTML = docLinkHtml;\n",
              "        element.appendChild(docLink);\n",
              "      }\n",
              "    </script>\n",
              "  </div>\n",
              "\n",
              "\n",
              "<div id=\"df-85d0ffd7-aa23-4220-a82e-dbb38b824fb0\">\n",
              "  <button class=\"colab-df-quickchart\" onclick=\"quickchart('df-85d0ffd7-aa23-4220-a82e-dbb38b824fb0')\"\n",
              "            title=\"Suggest charts\"\n",
              "            style=\"display:none;\">\n",
              "\n",
              "<svg xmlns=\"http://www.w3.org/2000/svg\" height=\"24px\"viewBox=\"0 0 24 24\"\n",
              "     width=\"24px\">\n",
              "    <g>\n",
              "        <path d=\"M19 3H5c-1.1 0-2 .9-2 2v14c0 1.1.9 2 2 2h14c1.1 0 2-.9 2-2V5c0-1.1-.9-2-2-2zM9 17H7v-7h2v7zm4 0h-2V7h2v10zm4 0h-2v-4h2v4z\"/>\n",
              "    </g>\n",
              "</svg>\n",
              "  </button>\n",
              "\n",
              "<style>\n",
              "  .colab-df-quickchart {\n",
              "      --bg-color: #E8F0FE;\n",
              "      --fill-color: #1967D2;\n",
              "      --hover-bg-color: #E2EBFA;\n",
              "      --hover-fill-color: #174EA6;\n",
              "      --disabled-fill-color: #AAA;\n",
              "      --disabled-bg-color: #DDD;\n",
              "  }\n",
              "\n",
              "  [theme=dark] .colab-df-quickchart {\n",
              "      --bg-color: #3B4455;\n",
              "      --fill-color: #D2E3FC;\n",
              "      --hover-bg-color: #434B5C;\n",
              "      --hover-fill-color: #FFFFFF;\n",
              "      --disabled-bg-color: #3B4455;\n",
              "      --disabled-fill-color: #666;\n",
              "  }\n",
              "\n",
              "  .colab-df-quickchart {\n",
              "    background-color: var(--bg-color);\n",
              "    border: none;\n",
              "    border-radius: 50%;\n",
              "    cursor: pointer;\n",
              "    display: none;\n",
              "    fill: var(--fill-color);\n",
              "    height: 32px;\n",
              "    padding: 0;\n",
              "    width: 32px;\n",
              "  }\n",
              "\n",
              "  .colab-df-quickchart:hover {\n",
              "    background-color: var(--hover-bg-color);\n",
              "    box-shadow: 0 1px 2px rgba(60, 64, 67, 0.3), 0 1px 3px 1px rgba(60, 64, 67, 0.15);\n",
              "    fill: var(--button-hover-fill-color);\n",
              "  }\n",
              "\n",
              "  .colab-df-quickchart-complete:disabled,\n",
              "  .colab-df-quickchart-complete:disabled:hover {\n",
              "    background-color: var(--disabled-bg-color);\n",
              "    fill: var(--disabled-fill-color);\n",
              "    box-shadow: none;\n",
              "  }\n",
              "\n",
              "  .colab-df-spinner {\n",
              "    border: 2px solid var(--fill-color);\n",
              "    border-color: transparent;\n",
              "    border-bottom-color: var(--fill-color);\n",
              "    animation:\n",
              "      spin 1s steps(1) infinite;\n",
              "  }\n",
              "\n",
              "  @keyframes spin {\n",
              "    0% {\n",
              "      border-color: transparent;\n",
              "      border-bottom-color: var(--fill-color);\n",
              "      border-left-color: var(--fill-color);\n",
              "    }\n",
              "    20% {\n",
              "      border-color: transparent;\n",
              "      border-left-color: var(--fill-color);\n",
              "      border-top-color: var(--fill-color);\n",
              "    }\n",
              "    30% {\n",
              "      border-color: transparent;\n",
              "      border-left-color: var(--fill-color);\n",
              "      border-top-color: var(--fill-color);\n",
              "      border-right-color: var(--fill-color);\n",
              "    }\n",
              "    40% {\n",
              "      border-color: transparent;\n",
              "      border-right-color: var(--fill-color);\n",
              "      border-top-color: var(--fill-color);\n",
              "    }\n",
              "    60% {\n",
              "      border-color: transparent;\n",
              "      border-right-color: var(--fill-color);\n",
              "    }\n",
              "    80% {\n",
              "      border-color: transparent;\n",
              "      border-right-color: var(--fill-color);\n",
              "      border-bottom-color: var(--fill-color);\n",
              "    }\n",
              "    90% {\n",
              "      border-color: transparent;\n",
              "      border-bottom-color: var(--fill-color);\n",
              "    }\n",
              "  }\n",
              "</style>\n",
              "\n",
              "  <script>\n",
              "    async function quickchart(key) {\n",
              "      const quickchartButtonEl =\n",
              "        document.querySelector('#' + key + ' button');\n",
              "      quickchartButtonEl.disabled = true;  // To prevent multiple clicks.\n",
              "      quickchartButtonEl.classList.add('colab-df-spinner');\n",
              "      try {\n",
              "        const charts = await google.colab.kernel.invokeFunction(\n",
              "            'suggestCharts', [key], {});\n",
              "      } catch (error) {\n",
              "        console.error('Error during call to suggestCharts:', error);\n",
              "      }\n",
              "      quickchartButtonEl.classList.remove('colab-df-spinner');\n",
              "      quickchartButtonEl.classList.add('colab-df-quickchart-complete');\n",
              "    }\n",
              "    (() => {\n",
              "      let quickchartButtonEl =\n",
              "        document.querySelector('#df-85d0ffd7-aa23-4220-a82e-dbb38b824fb0 button');\n",
              "      quickchartButtonEl.style.display =\n",
              "        google.colab.kernel.accessAllowed ? 'block' : 'none';\n",
              "    })();\n",
              "  </script>\n",
              "</div>\n",
              "\n",
              "    </div>\n",
              "  </div>\n"
            ],
            "application/vnd.google.colaboratory.intrinsic+json": {
              "type": "dataframe",
              "summary": "{\n  \"name\": \"#dados\",\n  \"rows\": 5,\n  \"fields\": [\n    {\n      \"column\": \"Patient Number\",\n      \"properties\": {\n        \"dtype\": \"string\",\n        \"num_unique_values\": 5,\n        \"samples\": [\n          \"Patiant-02\",\n          \"Patiant-05\",\n          \"Patiant-03\"\n        ],\n        \"semantic_type\": \"\",\n        \"description\": \"\"\n      }\n    },\n    {\n      \"column\": \"Sadness\",\n      \"properties\": {\n        \"dtype\": \"category\",\n        \"num_unique_values\": 2,\n        \"samples\": [\n          \"Sometimes\",\n          \"Usually\"\n        ],\n        \"semantic_type\": \"\",\n        \"description\": \"\"\n      }\n    },\n    {\n      \"column\": \"Euphoric\",\n      \"properties\": {\n        \"dtype\": \"string\",\n        \"num_unique_values\": 3,\n        \"samples\": [\n          \"Seldom\",\n          \"Most-Often\"\n        ],\n        \"semantic_type\": \"\",\n        \"description\": \"\"\n      }\n    },\n    {\n      \"column\": \"Exhausted\",\n      \"properties\": {\n        \"dtype\": \"category\",\n        \"num_unique_values\": 2,\n        \"samples\": [\n          \"Usually\",\n          \"Sometimes\"\n        ],\n        \"semantic_type\": \"\",\n        \"description\": \"\"\n      }\n    },\n    {\n      \"column\": \"Sleep dissorder\",\n      \"properties\": {\n        \"dtype\": \"category\",\n        \"num_unique_values\": 2,\n        \"samples\": [\n          \"Most-Often\",\n          \"Sometimes\"\n        ],\n        \"semantic_type\": \"\",\n        \"description\": \"\"\n      }\n    },\n    {\n      \"column\": \"Mood Swing\",\n      \"properties\": {\n        \"dtype\": \"category\",\n        \"num_unique_values\": 2,\n        \"samples\": [\n          \"NO\",\n          \"YES\"\n        ],\n        \"semantic_type\": \"\",\n        \"description\": \"\"\n      }\n    },\n    {\n      \"column\": \"Suicidal thoughts\",\n      \"properties\": {\n        \"dtype\": \"string\",\n        \"num_unique_values\": 3,\n        \"samples\": [\n          \"YES \",\n          \"YES\"\n        ],\n        \"semantic_type\": \"\",\n        \"description\": \"\"\n      }\n    },\n    {\n      \"column\": \"Anorxia\",\n      \"properties\": {\n        \"dtype\": \"category\",\n        \"num_unique_values\": 2,\n        \"samples\": [\n          \"YES\",\n          \"NO\"\n        ],\n        \"semantic_type\": \"\",\n        \"description\": \"\"\n      }\n    },\n    {\n      \"column\": \"Authority Respect\",\n      \"properties\": {\n        \"dtype\": \"category\",\n        \"num_unique_values\": 1,\n        \"samples\": [\n          \"NO\"\n        ],\n        \"semantic_type\": \"\",\n        \"description\": \"\"\n      }\n    },\n    {\n      \"column\": \"Try-Explanation\",\n      \"properties\": {\n        \"dtype\": \"category\",\n        \"num_unique_values\": 2,\n        \"samples\": [\n          \"NO\"\n        ],\n        \"semantic_type\": \"\",\n        \"description\": \"\"\n      }\n    },\n    {\n      \"column\": \"Aggressive Response\",\n      \"properties\": {\n        \"dtype\": \"category\",\n        \"num_unique_values\": 2,\n        \"samples\": [\n          \"YES\"\n        ],\n        \"semantic_type\": \"\",\n        \"description\": \"\"\n      }\n    },\n    {\n      \"column\": \"Ignore & Move-On\",\n      \"properties\": {\n        \"dtype\": \"category\",\n        \"num_unique_values\": 1,\n        \"samples\": [\n          \"NO\"\n        ],\n        \"semantic_type\": \"\",\n        \"description\": \"\"\n      }\n    },\n    {\n      \"column\": \"Nervous Break-down\",\n      \"properties\": {\n        \"dtype\": \"category\",\n        \"num_unique_values\": 2,\n        \"samples\": [\n          \"NO\"\n        ],\n        \"semantic_type\": \"\",\n        \"description\": \"\"\n      }\n    },\n    {\n      \"column\": \"Admit Mistakes\",\n      \"properties\": {\n        \"dtype\": \"category\",\n        \"num_unique_values\": 2,\n        \"samples\": [\n          \"NO\"\n        ],\n        \"semantic_type\": \"\",\n        \"description\": \"\"\n      }\n    },\n    {\n      \"column\": \"Overthinking\",\n      \"properties\": {\n        \"dtype\": \"category\",\n        \"num_unique_values\": 2,\n        \"samples\": [\n          \"NO\"\n        ],\n        \"semantic_type\": \"\",\n        \"description\": \"\"\n      }\n    },\n    {\n      \"column\": \"Sexual Activity\",\n      \"properties\": {\n        \"dtype\": \"string\",\n        \"num_unique_values\": 4,\n        \"samples\": [\n          \"4 From 10\"\n        ],\n        \"semantic_type\": \"\",\n        \"description\": \"\"\n      }\n    },\n    {\n      \"column\": \"Concentration\",\n      \"properties\": {\n        \"dtype\": \"string\",\n        \"num_unique_values\": 3,\n        \"samples\": [\n          \"3 From 10\"\n        ],\n        \"semantic_type\": \"\",\n        \"description\": \"\"\n      }\n    },\n    {\n      \"column\": \"Optimisim\",\n      \"properties\": {\n        \"dtype\": \"string\",\n        \"num_unique_values\": 5,\n        \"samples\": [\n          \"5 From 10\"\n        ],\n        \"semantic_type\": \"\",\n        \"description\": \"\"\n      }\n    },\n    {\n      \"column\": \"Expert Diagnose\",\n      \"properties\": {\n        \"dtype\": \"string\",\n        \"num_unique_values\": 4,\n        \"samples\": [\n          \"Depression\"\n        ],\n        \"semantic_type\": \"\",\n        \"description\": \"\"\n      }\n    }\n  ]\n}"
            }
          },
          "metadata": {},
          "execution_count": 5
        }
      ]
    },
    {
      "cell_type": "code",
      "source": [
        "# Verificar tipos de variáveis\n",
        "dados.dtypes"
      ],
      "metadata": {
        "id": "BkFEDnl4fIm_",
        "colab": {
          "base_uri": "https://localhost:8080/"
        },
        "outputId": "f0d734b4-8e77-4e2c-ca79-ff5eb734438e"
      },
      "execution_count": 6,
      "outputs": [
        {
          "output_type": "execute_result",
          "data": {
            "text/plain": [
              "Patient Number         object\n",
              "Sadness                object\n",
              "Euphoric               object\n",
              "Exhausted              object\n",
              "Sleep dissorder        object\n",
              "Mood Swing             object\n",
              "Suicidal thoughts      object\n",
              "Anorxia                object\n",
              "Authority Respect      object\n",
              "Try-Explanation        object\n",
              "Aggressive Response    object\n",
              "Ignore & Move-On       object\n",
              "Nervous Break-down     object\n",
              "Admit Mistakes         object\n",
              "Overthinking           object\n",
              "Sexual Activity        object\n",
              "Concentration          object\n",
              "Optimisim              object\n",
              "Expert Diagnose        object\n",
              "dtype: object"
            ]
          },
          "metadata": {},
          "execution_count": 6
        }
      ]
    },
    {
      "cell_type": "markdown",
      "source": [
        "# **Tratamento de dados:**"
      ],
      "metadata": {
        "id": "99vhuCuV6GiV"
      }
    },
    {
      "cell_type": "code",
      "source": [
        "# Lista das colunas que precisam ser alteradas\n",
        "colunas_para_alterar = [\"Mood Swing\", \"Suicidal thoughts\", \"Anorxia\", \"Authority Respect\",\n",
        "                        \"Try-Explanation\", \"Aggressive Response\", \"Ignore & Move-On\",\n",
        "                        \"Nervous Break-down\", \"Admit Mistakes\", \"Overthinking\"]\n",
        "\n",
        "# Mapear valores YES e NO para 1 e 0, respectivamente\n",
        "yes_no_map = {\"YES \": 1, \"YES\": 1, \"NO\": 0}\n",
        "\n",
        "# Substituir valores nas colunas especificadas\n",
        "dados[colunas_para_alterar] = dados[colunas_para_alterar].replace(yes_no_map)\n",
        "\n",
        "# Exibir o DataFrame após a substituição\n",
        "print(dados)\n"
      ],
      "metadata": {
        "id": "4y85_TOM6gS5",
        "outputId": "bd485358-244a-4fdc-d1b9-0b77a64e7891",
        "colab": {
          "base_uri": "https://localhost:8080/"
        }
      },
      "execution_count": 7,
      "outputs": [
        {
          "output_type": "stream",
          "name": "stdout",
          "text": [
            "    Patient Number     Sadness    Euphoric  Exhausted Sleep dissorder  \\\n",
            "0       Patiant-01     Usually      Seldom  Sometimes       Sometimes   \n",
            "1       Patiant-02     Usually      Seldom    Usually       Sometimes   \n",
            "2       Patiant-03   Sometimes  Most-Often  Sometimes       Sometimes   \n",
            "3       Patiant-04     Usually      Seldom    Usually      Most-Often   \n",
            "4       Patiant-05     Usually     Usually  Sometimes       Sometimes   \n",
            "..             ...         ...         ...        ...             ...   \n",
            "115    Patiant-116  Most-Often      Seldom    Usually       Sometimes   \n",
            "116    Patiant-117   Sometimes   Sometimes  Sometimes          Seldom   \n",
            "117    Patiant-118     Usually   Sometimes    Usually       Sometimes   \n",
            "118    Patiant-119     Usually   Sometimes     Seldom          Seldom   \n",
            "119    Patiant-120   Sometimes     Usually     Seldom         Usually   \n",
            "\n",
            "     Mood Swing  Suicidal thoughts  Anorxia  Authority Respect  \\\n",
            "0             1                  1        0                  0   \n",
            "1             0                  1        0                  0   \n",
            "2             1                  0        0                  0   \n",
            "3             1                  1        1                  0   \n",
            "4             0                  0        0                  0   \n",
            "..          ...                ...      ...                ...   \n",
            "115           0                  1        0                  0   \n",
            "116           1                  0        0                  0   \n",
            "117           1                  0        1                  1   \n",
            "118           0                  1        1                  0   \n",
            "119           0                  0        0                  1   \n",
            "\n",
            "     Try-Explanation  Aggressive Response  Ignore & Move-On  \\\n",
            "0                  1                    0                 0   \n",
            "1                  0                    0                 0   \n",
            "2                  1                    1                 0   \n",
            "3                  1                    0                 0   \n",
            "4                  0                    0                 0   \n",
            "..               ...                  ...               ...   \n",
            "115                1                    0                 1   \n",
            "116                0                    1                 0   \n",
            "117                0                    0                 0   \n",
            "118                1                    1                 1   \n",
            "119                1                    0                 1   \n",
            "\n",
            "     Nervous Break-down  Admit Mistakes  Overthinking Sexual Activity  \\\n",
            "0                     1               1             1       3 From 10   \n",
            "1                     0               0             0       4 From 10   \n",
            "2                     1               1             0       6 From 10   \n",
            "3                     0               0             0       3 From 10   \n",
            "4                     1               1             1       5 From 10   \n",
            "..                  ...             ...           ...             ...   \n",
            "115                   0               0             1       2 From 10   \n",
            "116                   0               0             1       6 From 10   \n",
            "117                   1               0             1       1 From 10   \n",
            "118                   0               1             1       7 From 10   \n",
            "119                   1               0             0       7 From 10   \n",
            "\n",
            "    Concentration  Optimisim Expert Diagnose  \n",
            "0       3 From 10  4 From 10  Bipolar Type-2  \n",
            "1       2 From 10  5 From 10      Depression  \n",
            "2       5 From 10  7 From 10  Bipolar Type-1  \n",
            "3       2 From 10  2 From 10  Bipolar Type-2  \n",
            "4       5 From 10  6 From 10          Normal  \n",
            "..            ...        ...             ...  \n",
            "115     5 From 10  3 From 10      Depression  \n",
            "116     7 From 10  8 From 10  Bipolar Type-1  \n",
            "117     5 From 10  3 From 10  Bipolar Type-2  \n",
            "118     7 From 10  7 From 10      Depression  \n",
            "119     3 From 10  8 From 10          Normal  \n",
            "\n",
            "[120 rows x 19 columns]\n"
          ]
        }
      ]
    },
    {
      "cell_type": "code",
      "source": [
        "# Mapear as opções da coluna \"Expert Diagnose\" para números\n",
        "diagnose_map = {\"Bipolar Type-2\": 1, \"Depression\": 2, \"Bipolar Type-1\": 3, \"Normal\": 4}\n",
        "\n",
        "# Substituir valores na coluna \"Expert Diagnose\"\n",
        "dados[\"Expert Diagnose\"] = dados[\"Expert Diagnose\"].replace(diagnose_map)\n",
        "\n",
        "# Exibir o DataFrame após a substituição\n",
        "print(dados)\n"
      ],
      "metadata": {
        "id": "RaasjTHPItt8",
        "outputId": "ed7a60b8-30af-44d8-ecb2-3ad1ec3b9ad0",
        "colab": {
          "base_uri": "https://localhost:8080/"
        }
      },
      "execution_count": 8,
      "outputs": [
        {
          "output_type": "stream",
          "name": "stdout",
          "text": [
            "    Patient Number     Sadness    Euphoric  Exhausted Sleep dissorder  \\\n",
            "0       Patiant-01     Usually      Seldom  Sometimes       Sometimes   \n",
            "1       Patiant-02     Usually      Seldom    Usually       Sometimes   \n",
            "2       Patiant-03   Sometimes  Most-Often  Sometimes       Sometimes   \n",
            "3       Patiant-04     Usually      Seldom    Usually      Most-Often   \n",
            "4       Patiant-05     Usually     Usually  Sometimes       Sometimes   \n",
            "..             ...         ...         ...        ...             ...   \n",
            "115    Patiant-116  Most-Often      Seldom    Usually       Sometimes   \n",
            "116    Patiant-117   Sometimes   Sometimes  Sometimes          Seldom   \n",
            "117    Patiant-118     Usually   Sometimes    Usually       Sometimes   \n",
            "118    Patiant-119     Usually   Sometimes     Seldom          Seldom   \n",
            "119    Patiant-120   Sometimes     Usually     Seldom         Usually   \n",
            "\n",
            "     Mood Swing  Suicidal thoughts  Anorxia  Authority Respect  \\\n",
            "0             1                  1        0                  0   \n",
            "1             0                  1        0                  0   \n",
            "2             1                  0        0                  0   \n",
            "3             1                  1        1                  0   \n",
            "4             0                  0        0                  0   \n",
            "..          ...                ...      ...                ...   \n",
            "115           0                  1        0                  0   \n",
            "116           1                  0        0                  0   \n",
            "117           1                  0        1                  1   \n",
            "118           0                  1        1                  0   \n",
            "119           0                  0        0                  1   \n",
            "\n",
            "     Try-Explanation  Aggressive Response  Ignore & Move-On  \\\n",
            "0                  1                    0                 0   \n",
            "1                  0                    0                 0   \n",
            "2                  1                    1                 0   \n",
            "3                  1                    0                 0   \n",
            "4                  0                    0                 0   \n",
            "..               ...                  ...               ...   \n",
            "115                1                    0                 1   \n",
            "116                0                    1                 0   \n",
            "117                0                    0                 0   \n",
            "118                1                    1                 1   \n",
            "119                1                    0                 1   \n",
            "\n",
            "     Nervous Break-down  Admit Mistakes  Overthinking Sexual Activity  \\\n",
            "0                     1               1             1       3 From 10   \n",
            "1                     0               0             0       4 From 10   \n",
            "2                     1               1             0       6 From 10   \n",
            "3                     0               0             0       3 From 10   \n",
            "4                     1               1             1       5 From 10   \n",
            "..                  ...             ...           ...             ...   \n",
            "115                   0               0             1       2 From 10   \n",
            "116                   0               0             1       6 From 10   \n",
            "117                   1               0             1       1 From 10   \n",
            "118                   0               1             1       7 From 10   \n",
            "119                   1               0             0       7 From 10   \n",
            "\n",
            "    Concentration  Optimisim  Expert Diagnose  \n",
            "0       3 From 10  4 From 10                1  \n",
            "1       2 From 10  5 From 10                2  \n",
            "2       5 From 10  7 From 10                3  \n",
            "3       2 From 10  2 From 10                1  \n",
            "4       5 From 10  6 From 10                4  \n",
            "..            ...        ...              ...  \n",
            "115     5 From 10  3 From 10                2  \n",
            "116     7 From 10  8 From 10                3  \n",
            "117     5 From 10  3 From 10                1  \n",
            "118     7 From 10  7 From 10                2  \n",
            "119     3 From 10  8 From 10                4  \n",
            "\n",
            "[120 rows x 19 columns]\n"
          ]
        }
      ]
    },
    {
      "cell_type": "code",
      "source": [
        "# Verificando novamente os tipos dos dados.\n",
        "# Verificando a existencia de dados nulos\n",
        "dados.info()"
      ],
      "metadata": {
        "id": "gHkhpB3gfLtY",
        "outputId": "9e26d850-7142-462a-f493-3d03a7d1f818",
        "colab": {
          "base_uri": "https://localhost:8080/"
        }
      },
      "execution_count": 9,
      "outputs": [
        {
          "output_type": "stream",
          "name": "stdout",
          "text": [
            "<class 'pandas.core.frame.DataFrame'>\n",
            "RangeIndex: 120 entries, 0 to 119\n",
            "Data columns (total 19 columns):\n",
            " #   Column               Non-Null Count  Dtype \n",
            "---  ------               --------------  ----- \n",
            " 0   Patient Number       120 non-null    object\n",
            " 1   Sadness              120 non-null    object\n",
            " 2   Euphoric             120 non-null    object\n",
            " 3   Exhausted            120 non-null    object\n",
            " 4   Sleep dissorder      120 non-null    object\n",
            " 5   Mood Swing           120 non-null    int64 \n",
            " 6   Suicidal thoughts    120 non-null    int64 \n",
            " 7   Anorxia              120 non-null    int64 \n",
            " 8   Authority Respect    120 non-null    int64 \n",
            " 9   Try-Explanation      120 non-null    int64 \n",
            " 10  Aggressive Response  120 non-null    int64 \n",
            " 11  Ignore & Move-On     120 non-null    int64 \n",
            " 12  Nervous Break-down   120 non-null    int64 \n",
            " 13  Admit Mistakes       120 non-null    int64 \n",
            " 14  Overthinking         120 non-null    int64 \n",
            " 15  Sexual Activity      120 non-null    object\n",
            " 16  Concentration        120 non-null    object\n",
            " 17  Optimisim            120 non-null    object\n",
            " 18  Expert Diagnose      120 non-null    int64 \n",
            "dtypes: int64(11), object(8)\n",
            "memory usage: 17.9+ KB\n"
          ]
        }
      ]
    },
    {
      "cell_type": "code",
      "source": [
        "# Mostrando o numero de dados faltantes em cada coluna (Tabela não possui dados faltantes)\n",
        "dados.isnull().sum()"
      ],
      "metadata": {
        "id": "wd8PDVRGfVHj",
        "colab": {
          "base_uri": "https://localhost:8080/"
        },
        "outputId": "1098cc5a-045d-499a-c1a8-a227de6bafdc"
      },
      "execution_count": 10,
      "outputs": [
        {
          "output_type": "execute_result",
          "data": {
            "text/plain": [
              "Patient Number         0\n",
              "Sadness                0\n",
              "Euphoric               0\n",
              "Exhausted              0\n",
              "Sleep dissorder        0\n",
              "Mood Swing             0\n",
              "Suicidal thoughts      0\n",
              "Anorxia                0\n",
              "Authority Respect      0\n",
              "Try-Explanation        0\n",
              "Aggressive Response    0\n",
              "Ignore & Move-On       0\n",
              "Nervous Break-down     0\n",
              "Admit Mistakes         0\n",
              "Overthinking           0\n",
              "Sexual Activity        0\n",
              "Concentration          0\n",
              "Optimisim              0\n",
              "Expert Diagnose        0\n",
              "dtype: int64"
            ]
          },
          "metadata": {},
          "execution_count": 10
        }
      ]
    },
    {
      "cell_type": "code",
      "source": [
        "# Importar matplotlib.\n",
        "import matplotlib.pyplot as plt\n",
        "# Importar seaborn.\n",
        "import seaborn as sns"
      ],
      "metadata": {
        "id": "N8cMl1nHgHAA"
      },
      "execution_count": 11,
      "outputs": []
    },
    {
      "cell_type": "code",
      "source": [
        "# Verificando categorias ou classes\n",
        "classes_diabetes = dados['Expert Diagnose'].value_counts()\n",
        "\n",
        "print(classes_diabetes)\n",
        "\n"
      ],
      "metadata": {
        "id": "6jAjlQidgLCI",
        "colab": {
          "base_uri": "https://localhost:8080/"
        },
        "outputId": "bd10f460-7a41-4c65-8e94-ddcb84424a95"
      },
      "execution_count": 12,
      "outputs": [
        {
          "output_type": "stream",
          "name": "stdout",
          "text": [
            "Expert Diagnose\n",
            "1    31\n",
            "2    31\n",
            "4    30\n",
            "3    28\n",
            "Name: count, dtype: int64\n"
          ]
        }
      ]
    },
    {
      "cell_type": "code",
      "source": [
        "contagem_classes = dados['Expert Diagnose'].value_counts()\n",
        "\n",
        "# Criar o gráfico de barras\n",
        "plt.figure(figsize=(10, 6))\n",
        "contagem_classes.plot(kind='bar', color='skyblue')\n",
        "\n",
        "# Adicionar rótulos e título\n",
        "plt.title('Contagem de Classes na Coluna \"Expert Diagnose\"')\n",
        "plt.xlabel('Classe')\n",
        "plt.ylabel('Contagem')\n",
        "\n",
        "# Exibir o gráfico\n",
        "plt.xticks(rotation=45, ha='right')\n",
        "plt.tight_layout()\n",
        "plt.show()"
      ],
      "metadata": {
        "id": "MrVs9uyiiOx7",
        "outputId": "64d27a21-301f-46b9-924b-bed6cff80bda",
        "colab": {
          "base_uri": "https://localhost:8080/",
          "height": 607
        }
      },
      "execution_count": 13,
      "outputs": [
        {
          "output_type": "display_data",
          "data": {
            "text/plain": [
              "<Figure size 1000x600 with 1 Axes>"
            ],
            "image/png": "[encoded data removed]"
          },
          "metadata": {}
        }
      ]
    },
    {
      "cell_type": "code",
      "source": [
        "# Construindo o gráfico de fatias com matplotlib\n",
        "\n",
        "contagem_diagnoses = dados['Expert Diagnose'].value_counts()\n",
        "\n",
        "# Extrair os diagnósticos e suas contagens\n",
        "diagnoses = contagem_diagnoses.index\n",
        "quantidades = contagem_diagnoses.values\n",
        "\n",
        "# Construir o gráfico de pizza\n",
        "plt.figure(figsize=(8, 8))\n",
        "plt.pie(quantidades, labels=diagnoses, autopct='%1.2f%%', startangle=140)\n",
        "plt.title('Distribuição de Diagnósticos')\n",
        "plt.axis('equal')\n",
        "plt.legend(diagnoses, loc='best')\n",
        "\n",
        "plt.show()"
      ],
      "metadata": {
        "id": "mWSMRDUZkY9F",
        "colab": {
          "base_uri": "https://localhost:8080/",
          "height": 680
        },
        "outputId": "5b7a8f81-a3d6-4619-8972-11f3209ebd1f"
      },
      "execution_count": 14,
      "outputs": [
        {
          "output_type": "display_data",
          "data": {
            "text/plain": [
              "<Figure size 800x800 with 1 Axes>"
            ],
            "image/png": "[encoded data removed]"
          },
          "metadata": {}
        }
      ]
    },
    {
      "cell_type": "markdown",
      "source": [
        "**Há variável resposta nessa base de dados?**\n",
        "\n",
        "* Há variável resposta, variável Saida, correspondendo ao pacente ter ou não diabetes."
      ],
      "metadata": {
        "id": "b4gDCx8u5Uwh"
      }
    },
    {
      "cell_type": "markdown",
      "source": [
        "**Quais perguntas poderemos responder com esta base de dados?**\n",
        "\n",
        "\n",
        "* Quantos pacientes têm bipolar type-2 e quantos têm depressão?\n",
        "* Qual a correlação entre \"Sadness\" e \"Suicidal thoughts\"?\n",
        "* Podemos prever o diagnóstico (Expert Diagnose) com  base nas características emocionais e comportamentais dos pacientes?\n",
        "\n",
        "\n"
      ],
      "metadata": {
        "id": "s9SL-Y9Nx4lJ"
      }
    },
    {
      "cell_type": "code",
      "source": [
        "#Quantos pacientes têm bipolar type-2 e quantos têm depressão?\n",
        "\n",
        "\n",
        "bipolar_type_2_count = dados[dados['Expert Diagnose'] == 1].shape[0]\n",
        "depression_count = dados[dados['Expert Diagnose'] == 2].shape[0]\n",
        "\n",
        "print(\"Número de pacientes com Bipolar Type-2:\", bipolar_type_2_count)\n",
        "print(\"Número de pacientes com Depressão:\", depression_count)"
      ],
      "metadata": {
        "colab": {
          "base_uri": "https://localhost:8080/"
        },
        "id": "sL1blKXvYCaG",
        "outputId": "22ac4545-63a8-477a-d9ca-73220ea10971"
      },
      "execution_count": 27,
      "outputs": [
        {
          "output_type": "stream",
          "name": "stdout",
          "text": [
            "Número de pacientes com Bipolar Type-2: 31\n",
            "Número de pacientes com Depressão: 28\n"
          ]
        }
      ]
    },
    {
      "cell_type": "code",
      "source": [
        "#Qual a correlação entre \"Sadness\" e \"Suicidal thoughts\"?\n",
        "\n",
        "# Mapear as categorias da coluna \"Sadness\" para valores numéricos\n",
        "mapa_sadness = {'Most-Often':3,'Usually': 2, 'Sometimes': 1, 'Seldom': 0}  # Defina os valores numéricos para cada categoria conforme necessário\n",
        "dados['Sadness'] = dados['Sadness'].map(mapa_sadness)\n",
        "\n",
        "# Calcular a correlação entre \"Sadness\" e \"Suicidal thoughts\"\n",
        "correlation = dados['Sadness'].corr(dados['Suicidal thoughts'])\n",
        "\n",
        "print(\"Correlação entre 'Sadness' e 'Suicidal thoughts':\", correlation)"
      ],
      "metadata": {
        "colab": {
          "base_uri": "https://localhost:8080/"
        },
        "id": "Y_6xwvEIYbLS",
        "outputId": "dc758b88-f8c5-4b9b-d4de-7c84445bcb64"
      },
      "execution_count": 31,
      "outputs": [
        {
          "output_type": "stream",
          "name": "stdout",
          "text": [
            "Correlação entre 'Sadness' e 'Suicidal thoughts': 0.2655584154998196\n"
          ]
        }
      ]
    },
    {
      "cell_type": "code",
      "source": [
        "# Pré-processamento\n",
        "# Converter variáveis categóricas para numéricas\n",
        "label_encoder = LabelEncoder()\n",
        "dados['Expert Diagnose'] = label_encoder.fit_transform(dados['Expert Diagnose'])\n",
        "\n",
        "# Converter variáveis categóricas em representações numéricas usando one-hot encoding\n",
        "dados_encoded = pd.get_dummies(dados.drop(columns=['Patient Number']))\n",
        "\n",
        "# Dividir os dados em conjunto de treinamento e teste\n",
        "X = dados_encoded.drop(columns=['Expert Diagnose'])\n",
        "y = dados_encoded['Expert Diagnose']\n",
        "X_train, X_test, y_train, y_test = train_test_split(X, y, test_size=0.2, random_state=42)\n",
        "\n",
        "# Treinar o modelo\n",
        "model = RandomForestClassifier(random_state=42)\n",
        "model.fit(X_train, y_train)\n",
        "\n",
        "# Fazer previsões\n",
        "y_pred = model.predict(X_test)\n",
        "\n",
        "# Avaliar o modelo\n",
        "accuracy = accuracy_score(y_test, y_pred)\n",
        "report = classification_report(y_test, y_pred)\n",
        "\n",
        "print(\"Acurácia do modelo:\", accuracy)\n",
        "print(\"Relatório de classificação:\")\n",
        "print(report)"
      ],
      "metadata": {
        "colab": {
          "base_uri": "https://localhost:8080/"
        },
        "id": "mRW2Jz7IaDoq",
        "outputId": "082b910d-ffc7-497a-cc44-44698d8f4806"
      },
      "execution_count": 36,
      "outputs": [
        {
          "output_type": "stream",
          "name": "stdout",
          "text": [
            "Acurácia do modelo: 0.8333333333333334\n",
            "Relatório de classificação:\n",
            "              precision    recall  f1-score   support\n",
            "\n",
            "           0       0.83      1.00      0.91         5\n",
            "           1       0.80      1.00      0.89         8\n",
            "           2       1.00      0.50      0.67         4\n",
            "           3       0.83      0.71      0.77         7\n",
            "\n",
            "    accuracy                           0.83        24\n",
            "   macro avg       0.87      0.80      0.81        24\n",
            "weighted avg       0.85      0.83      0.82        24\n",
            "\n"
          ]
        }
      ]
    },
    {
      "cell_type": "markdown",
      "source": [
        "**Qual tipo de Aprendizagem de Máquina? Qual tarefa?**\n",
        "\n",
        "* Aprendizagem supervisionada, classificação."
      ],
      "metadata": {
        "id": "ffgmf7fvztn7"
      }
    },
    {
      "cell_type": "code",
      "source": [
        "from sklearn.model_selection import train_test_split\n",
        "import numpy as np\n",
        "\n",
        "from sklearn.tree import DecisionTreeClassifier\n",
        "from sklearn.svm import SVC"
      ],
      "metadata": {
        "id": "q5YQgJPm9a7H"
      },
      "execution_count": 37,
      "outputs": []
    },
    {
      "cell_type": "markdown",
      "source": [
        "# **Aprendizado de Máquina Supervisionado: Classificação**"
      ],
      "metadata": {
        "id": "ZLSlJWg35o_M"
      }
    },
    {
      "cell_type": "code",
      "source": [
        "# Pré-processamento\n",
        "# Converter variáveis categóricas para numéricas\n",
        "label_encoder = LabelEncoder()\n",
        "dados['Expert Diagnose'] = label_encoder.fit_transform(dados['Expert Diagnose'])\n",
        "\n",
        "# Converter variáveis categóricas em representações numéricas usando one-hot encoding\n",
        "dados_encoded = pd.get_dummies(dados.drop(columns=['Patient Number']))\n",
        "\n",
        "# Dividir os dados em conjunto de treinamento e teste\n",
        "X = dados_encoded.drop(columns=['Expert Diagnose'])\n",
        "y = dados_encoded['Expert Diagnose']\n",
        "X_train, X_test, y_train, y_test = train_test_split(X, y, test_size=0.2, random_state=42)\n",
        "\n",
        "# Treinar o modelo DecisionTreeClassifier\n",
        "dt_model = DecisionTreeClassifier(random_state=42)\n",
        "dt_model.fit(X_train, y_train)\n",
        "\n",
        "# Fazer previsões com DecisionTreeClassifier\n",
        "y_pred_dt = dt_model.predict(X_test)\n",
        "\n",
        "# Avaliar o modelo DecisionTreeClassifier\n",
        "accuracy_dt = accuracy_score(y_test, y_pred_dt)\n",
        "report_dt = classification_report(y_test, y_pred_dt)\n",
        "\n",
        "print(\"Acurácia do modelo DecisionTreeClassifier:\", accuracy_dt)\n",
        "print(\"Relatório de classificação DecisionTreeClassifier:\")\n",
        "print(report_dt)\n",
        "\n",
        "# Treinar o modelo SVC\n",
        "svc_model = SVC(random_state=42)\n",
        "svc_model.fit(X_train, y_train)\n",
        "\n",
        "# Fazer previsões com SVC\n",
        "y_pred_svc = svc_model.predict(X_test)\n",
        "\n",
        "# Avaliar o modelo SVC\n",
        "accuracy_svc = accuracy_score(y_test, y_pred_svc)\n",
        "report_svc = classification_report(y_test, y_pred_svc)\n",
        "\n",
        "print(\"\\nAcurácia do modelo SVC:\", accuracy_svc)\n",
        "print(\"Relatório de classificação SVC:\")\n",
        "print(report_svc)"
      ],
      "metadata": {
        "id": "VJDJAQj25nxr",
        "outputId": "9b490ead-653e-4aaf-bf51-2a54f1197fd0",
        "colab": {
          "base_uri": "https://localhost:8080/"
        }
      },
      "execution_count": 38,
      "outputs": [
        {
          "output_type": "stream",
          "name": "stdout",
          "text": [
            "Acurácia do modelo DecisionTreeClassifier: 0.8333333333333334\n",
            "Relatório de classificação DecisionTreeClassifier:\n",
            "              precision    recall  f1-score   support\n",
            "\n",
            "           0       0.83      1.00      0.91         5\n",
            "           1       1.00      0.88      0.93         8\n",
            "           2       0.50      0.50      0.50         4\n",
            "           3       0.86      0.86      0.86         7\n",
            "\n",
            "    accuracy                           0.83        24\n",
            "   macro avg       0.80      0.81      0.80        24\n",
            "weighted avg       0.84      0.83      0.83        24\n",
            "\n",
            "\n",
            "Acurácia do modelo SVC: 0.8333333333333334\n",
            "Relatório de classificação SVC:\n",
            "              precision    recall  f1-score   support\n",
            "\n",
            "           0       0.83      1.00      0.91         5\n",
            "           1       0.78      0.88      0.82         8\n",
            "           2       0.75      0.75      0.75         4\n",
            "           3       1.00      0.71      0.83         7\n",
            "\n",
            "    accuracy                           0.83        24\n",
            "   macro avg       0.84      0.83      0.83        24\n",
            "weighted avg       0.85      0.83      0.83        24\n",
            "\n"
          ]
        }
      ]
    }
  ]
}