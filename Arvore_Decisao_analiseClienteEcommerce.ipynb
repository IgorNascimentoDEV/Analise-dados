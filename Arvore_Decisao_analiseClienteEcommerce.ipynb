{
  "nbformat": 4,
  "nbformat_minor": 0,
  "metadata": {
    "colab": {
      "provenance": [],
      "mount_file_id": "1dTjPSFl54cK6wfJhzUjg9xXMj6wbCt4X",
      "authorship_tag": "ABX9TyMbTTke4FiRx7GxJ5rbYapM",
      "include_colab_link": true
    },
    "kernelspec": {
      "name": "python3",
      "display_name": "Python 3"
    },
    "language_info": {
      "name": "python"
    }
  },
  "cells": [
    {
      "cell_type": "markdown",
      "metadata": {
        "id": "view-in-github",
        "colab_type": "text"
      },
      "source": [
        "<a href=\"https://colab.research.google.com/github/IgorNascimentoDEV/Analise-dados/blob/main/Arvore_Decisao_analiseClienteEcommerce.ipynb\" target=\"_parent\"><img src=\"https://colab.research.google.com/assets/colab-badge.svg\" alt=\"Open In Colab\"/></a>"
      ]
    },
    {
      "cell_type": "markdown",
      "source": [
        "**Análise de dados para almentar nível de satisfação dos clientes de um e-commerce utilizando árvore de decisão.**"
      ],
      "metadata": {
        "id": "Q1RCbEimNB35"
      }
    },
    {
      "cell_type": "code",
      "execution_count": 1,
      "metadata": {
        "id": "dLn00ZuwMbez"
      },
      "outputs": [],
      "source": [
        "#Importação das bibliotecas Pandas e Numpy\n",
        "import pandas as pd\n",
        "import numpy as np\n",
        "import matplotlib.pyplot as plt"
      ]
    },
    {
      "cell_type": "markdown",
      "source": [
        "**Leitura dos csv**"
      ],
      "metadata": {
        "id": "1H0mX7pTODZn"
      }
    },
    {
      "cell_type": "code",
      "source": [
        "dados_cliente = pd.read_csv('/content/drive/MyDrive/Dados para atividade Camila/dados_arvore_decisao/1_cliente.csv')\n",
        "dados_geolocalizacao = pd.read_csv('/content/drive/MyDrive/Dados para atividade Camila/dados_arvore_decisao/2_geolocalizacao.csv')\n",
        "dados_pedido = pd.read_csv('/content/drive/MyDrive/Dados para atividade Camila/dados_arvore_decisao/3_pedido.csv')\n",
        "dados_pagamento = pd.read_csv('/content/drive/MyDrive/Dados para atividade Camila/dados_arvore_decisao/4_pagamento.csv')\n",
        "dados_review_clientes = pd.read_csv('/content/drive/MyDrive/Dados para atividade Camila/dados_arvore_decisao/5_review_clientes.csv')\n",
        "dados_entrega_pedido = pd.read_csv('/content/drive/MyDrive/Dados para atividade Camila/dados_arvore_decisao/6_entrega_pedido.csv')\n",
        "dados_descricao_produto = pd.read_csv('/content/drive/MyDrive/Dados para atividade Camila/dados_arvore_decisao/7_descricao_produto.csv')\n",
        "dados_vendedor = pd.read_csv('/content/drive/MyDrive/Dados para atividade Camila/dados_arvore_decisao/8_vendedor.csv')\n",
        "dados_categoria_traduzido = pd.read_csv('/content/drive/MyDrive/Dados para atividade Camila/dados_arvore_decisao/9_categoria_traduzido.csv')"
      ],
      "metadata": {
        "id": "g2iF2OU9ONIQ"
      },
      "execution_count": 2,
      "outputs": []
    },
    {
      "cell_type": "markdown",
      "source": [
        "**Checagem dos 6 primeiros elementos de cada tabela**\n",
        "\n",
        "1- Use .head() para visualizar as primeiras linhas de cada uma das tabelas"
      ],
      "metadata": {
        "id": "cjr18CECPv4O"
      }
    },
    {
      "cell_type": "code",
      "source": [
        "dados_cliente.head(1-2)\n",
        "#dados_geolocalizacao.head(1-2)\n",
        "#dados_pedido.head(1-2)\n",
        "#dados_pagamento.head(1-2)\n",
        "#dados_review_clientes.head(1-2)\n",
        "#dados_entrega_pedido.head(1-2)\n",
        "#dados_descricao_produto.head(1-2)\n",
        "#dados_vendedor.head(1-2)\n",
        "#dados_categoria_traduzido.head(1-2)"
      ],
      "metadata": {
        "id": "DTzCLh_dP-f2"
      },
      "execution_count": null,
      "outputs": []
    },
    {
      "cell_type": "markdown",
      "source": [
        "**Processo de união de cada tabela com a proxima**"
      ],
      "metadata": {
        "id": "nDYUDtSgRfQN"
      }
    },
    {
      "cell_type": "code",
      "source": [
        "dados = dados_cliente.merge(dados_entrega_pedido).merge(dados_pedido).merge(dados_pagamento).merge(dados_review_clientes).merge(dados_vendedor)"
      ],
      "metadata": {
        "id": "bwTiVqRqTYT0"
      },
      "execution_count": 7,
      "outputs": []
    },
    {
      "cell_type": "markdown",
      "source": [
        "Visualizando a tabela resultante"
      ],
      "metadata": {
        "id": "FqqTstNqTgkF"
      }
    },
    {
      "cell_type": "code",
      "source": [
        "dados.head()"
      ],
      "metadata": {
        "id": "wg01zlQjTf9L"
      },
      "execution_count": null,
      "outputs": []
    },
    {
      "cell_type": "code",
      "source": [
        "dados.isnull().sum()"
      ],
      "metadata": {
        "id": "fqVsD-XATkT3"
      },
      "execution_count": null,
      "outputs": []
    },
    {
      "cell_type": "code",
      "source": [
        "dados.isna().sum()"
      ],
      "metadata": {
        "id": "SfsGRZVqTrbj"
      },
      "execution_count": null,
      "outputs": []
    },
    {
      "cell_type": "markdown",
      "source": [
        "**Segunda filtragem consiste em remover elementos que não possuem relaçõa com a variavel reviw_score**"
      ],
      "metadata": {
        "id": "i0p68OOAUKO0"
      }
    },
    {
      "cell_type": "code",
      "source": [
        "df_ = dados.copy()"
      ],
      "metadata": {
        "id": "sN4FtE8OUVET"
      },
      "execution_count": 12,
      "outputs": []
    },
    {
      "cell_type": "code",
      "source": [
        "dados.columns.tolist()"
      ],
      "metadata": {
        "id": "wqC3qHuIUrQz"
      },
      "execution_count": null,
      "outputs": []
    },
    {
      "cell_type": "code",
      "source": [
        "dataframe = dados.drop(columns=[\"customer_unique_id\",\n",
        "    \"customer_city\",\"customer_state\", \"order_status\",\n",
        "                          \"order_purchase_timestamp\",\n",
        "                          \"order_approved_at\",\n",
        "                          \"order_delivered_carrier_date\",\n",
        "                          \"order_delivered_customer_date\",\n",
        "                          \"order_estimated_delivery_date\",\n",
        "                          \"shipping_limit_date\",\n",
        "                          \"review_creation_date\",\n",
        "                          \"review_answer_timestamp\",\n",
        "                          \"seller_city\",\n",
        "                          \"seller_state\",\n",
        "                          \"review_comment_title\",\n",
        "                          \"review_comment_message\"])"
      ],
      "metadata": {
        "id": "6MvfyWa4VQwj"
      },
      "execution_count": 14,
      "outputs": []
    },
    {
      "cell_type": "code",
      "source": [
        "dataframe.shape"
      ],
      "metadata": {
        "colab": {
          "base_uri": "https://localhost:8080/"
        },
        "id": "V4-KwtKzVckj",
        "outputId": "edb2f71d-d048-4d08-ebf9-e945c38e1628"
      },
      "execution_count": 16,
      "outputs": [
        {
          "output_type": "execute_result",
          "data": {
            "text/plain": [
              "(117329, 15)"
            ]
          },
          "metadata": {},
          "execution_count": 16
        }
      ]
    },
    {
      "cell_type": "markdown",
      "source": [
        "**Vetores**\n",
        "\n",
        "Criando uma estrutura para evitar código lomgo:\n",
        "\n",
        "---"
      ],
      "metadata": {
        "id": "AVOBk1uPV0Ko"
      }
    },
    {
      "cell_type": "markdown",
      "source": [
        "**Inserindo cada atributo numérico da tabela resultante em um veor para melhor manipulação dos dados**\n",
        "\n",
        "vetor = np.array(dataframe.coluna)"
      ],
      "metadata": {
        "id": "BIUzOh3rWGji"
      }
    },
    {
      "cell_type": "code",
      "source": [
        "for coluna in dataframe:\n",
        "  dataframe[coluna] = (np.array(dataframe[coluna]))"
      ],
      "metadata": {
        "id": "k0nzrhv3WfHq"
      },
      "execution_count": 17,
      "outputs": []
    },
    {
      "cell_type": "code",
      "source": [
        "dataframe.columns.tolist()"
      ],
      "metadata": {
        "colab": {
          "base_uri": "https://localhost:8080/"
        },
        "id": "u9UYe-VtXKz6",
        "outputId": "b13514f2-d9ff-4eda-bb20-0dfc7de56aba"
      },
      "execution_count": 18,
      "outputs": [
        {
          "output_type": "execute_result",
          "data": {
            "text/plain": [
              "['customer_id',\n",
              " 'customer_zip_code_prefix',\n",
              " 'order_id',\n",
              " 'order_item_id',\n",
              " 'product_id',\n",
              " 'seller_id',\n",
              " 'price',\n",
              " 'freight_value',\n",
              " 'payment_sequential',\n",
              " 'payment_type',\n",
              " 'payment_installments',\n",
              " 'payment_value',\n",
              " 'review_id',\n",
              " 'review_score',\n",
              " 'seller_zip_code_prefix']"
            ]
          },
          "metadata": {},
          "execution_count": 18
        }
      ]
    },
    {
      "cell_type": "code",
      "source": [
        "dataframe.columns = [\"cliente\",\"cepcliente\", \"pedido\",\n",
        "\"idpedido\", \"produto\", \"vendedor\",\n",
        "\"preco_produto\", \"frete\", \"parcelas\",\n",
        "\"tipopagamento\", \"prestações\", \"valorfinal\",\n",
        "\"review\", \"score\", \"cepvendedor\"]"
      ],
      "metadata": {
        "id": "df_fv-55Xoip"
      },
      "execution_count": 19,
      "outputs": []
    },
    {
      "cell_type": "markdown",
      "source": [
        "**Informações do dataframe**\n",
        "\n",
        "Atributos, elementos não nulos, tipos das variaveis"
      ],
      "metadata": {
        "id": "0xagNfU2XuNO"
      }
    },
    {
      "cell_type": "code",
      "source": [
        "dataframe.info()"
      ],
      "metadata": {
        "colab": {
          "base_uri": "https://localhost:8080/"
        },
        "id": "EKZQ8ZnqX3yV",
        "outputId": "0cc00ffa-c5a5-4d37-839c-4de4b3e4fa7a"
      },
      "execution_count": 20,
      "outputs": [
        {
          "output_type": "stream",
          "name": "stdout",
          "text": [
            "<class 'pandas.core.frame.DataFrame'>\n",
            "Int64Index: 117329 entries, 0 to 117328\n",
            "Data columns (total 15 columns):\n",
            " #   Column         Non-Null Count   Dtype  \n",
            "---  ------         --------------   -----  \n",
            " 0   cliente        117329 non-null  object \n",
            " 1   cepcliente     117329 non-null  int64  \n",
            " 2   pedido         117329 non-null  object \n",
            " 3   idpedido       117329 non-null  int64  \n",
            " 4   produto        117329 non-null  object \n",
            " 5   vendedor       117329 non-null  object \n",
            " 6   preco_produto  117329 non-null  float64\n",
            " 7   frete          117329 non-null  float64\n",
            " 8   parcelas       117329 non-null  int64  \n",
            " 9   tipopagamento  117329 non-null  object \n",
            " 10  prestações     117329 non-null  int64  \n",
            " 11  valorfinal     117329 non-null  float64\n",
            " 12  review         117329 non-null  object \n",
            " 13  score          117329 non-null  int64  \n",
            " 14  cepvendedor    117329 non-null  int64  \n",
            "dtypes: float64(3), int64(6), object(6)\n",
            "memory usage: 14.3+ MB\n"
          ]
        }
      ]
    },
    {
      "cell_type": "markdown",
      "source": [
        "**Agrupando os elementos do dataframe por consumidor**"
      ],
      "metadata": {
        "id": "0QuhKotdX7QB"
      }
    },
    {
      "cell_type": "code",
      "source": [
        "dataframe.groupby(by='cliente').size()"
      ],
      "metadata": {
        "colab": {
          "base_uri": "https://localhost:8080/"
        },
        "id": "swXFzoolYAAx",
        "outputId": "aa905581-86d8-44d9-df23-0ec83abc735b"
      },
      "execution_count": 21,
      "outputs": [
        {
          "output_type": "execute_result",
          "data": {
            "text/plain": [
              "cliente\n",
              "00012a2ce6f8dcda20d059ce98491703    1\n",
              "000161a058600d5901f007fab4c27140    1\n",
              "0001fd6190edaaf884bcaf3d49edf079    1\n",
              "0002414f95344307404f0ace7a26f1d5    1\n",
              "000379cdec625522490c315e70c7a9fb    1\n",
              "                                   ..\n",
              "fffcb937e9dd47a13f05ecb8290f4d3e    1\n",
              "fffecc9f79fd8c764f843e9951b11341    3\n",
              "fffeda5b6d849fbd39689bb92087f431    1\n",
              "ffff42319e9b2d713724ae527742af25    1\n",
              "ffffa3172527f765de70084a7e53aae8    2\n",
              "Length: 97916, dtype: int64"
            ]
          },
          "metadata": {},
          "execution_count": 21
        }
      ]
    },
    {
      "cell_type": "markdown",
      "source": [
        "**Importando os métodos de arvore de decisão**"
      ],
      "metadata": {
        "id": "T1R3Ke1mYihh"
      }
    },
    {
      "cell_type": "code",
      "source": [
        "from sklearn.tree import DecisionTreeClassifier, export_graphviz\n",
        "from sklearn.model_selection import train_test_split\n",
        "from sklearn import metrics"
      ],
      "metadata": {
        "id": "42w9XCrxYuO9"
      },
      "execution_count": 22,
      "outputs": []
    },
    {
      "cell_type": "markdown",
      "source": [
        "**Para simplificar os dados, removemos todos os elementos não-numericos.**"
      ],
      "metadata": {
        "id": "QoNZLE8DZGRZ"
      }
    },
    {
      "cell_type": "code",
      "source": [
        "df = dataframe.copy()"
      ],
      "metadata": {
        "id": "-iDVgNY7ZT6a"
      },
      "execution_count": 23,
      "outputs": []
    },
    {
      "cell_type": "code",
      "source": [
        "df"
      ],
      "metadata": {
        "id": "SpW5dixwZYST"
      },
      "execution_count": null,
      "outputs": []
    },
    {
      "cell_type": "code",
      "source": [
        "#Retirar as letras\n",
        "df['cliente'] = df['cliente'].str.replace(r'\\D', '')\n",
        "df['pedido'] = df['pedido'].str.replace(r'\\D', '')\n",
        "df['produto'] = df['produto'].str.replace(r'\\D', '')\n",
        "df['vendedor'] = df['vendedor'].str.replace(r'\\D', '')\n",
        "df['review'] = df['review'].str.replace(r'\\D', '')\n",
        "df"
      ],
      "metadata": {
        "id": "79dqTPV4ZlR4"
      },
      "execution_count": null,
      "outputs": []
    }
  ]
}