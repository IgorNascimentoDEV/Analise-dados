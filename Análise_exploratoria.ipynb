{
  "nbformat": 4,
  "nbformat_minor": 0,
  "metadata": {
    "colab": {
      "provenance": [],
      "authorship_tag": "ABX9TyPty7LUsJyTtMkh9Em90SW8",
      "include_colab_link": true
    },
    "kernelspec": {
      "name": "python3",
      "display_name": "Python 3"
    },
    "language_info": {
      "name": "python"
    }
  },
  "cells": [
    {
      "cell_type": "markdown",
      "metadata": {
        "id": "view-in-github",
        "colab_type": "text"
      },
      "source": [
        "<a href=\"https://colab.research.google.com/github/IgorNascimentoDEV/Analise-dados/blob/main/An%C3%A1lise_exploratoria.ipynb\" target=\"_parent\"><img src=\"https://colab.research.google.com/assets/colab-badge.svg\" alt=\"Open In Colab\"/></a>"
      ]
    },
    {
      "cell_type": "code",
      "execution_count": null,
      "metadata": {
        "id": "1mAy1oC3C6fM"
      },
      "outputs": [],
      "source": [
        "import numpy as np\n",
        "import pandas as pd\n",
        "import matplotlib.pyplot as plt\n",
        "plt.style.use('seaborn-talk')\n",
        "import warnings\n",
        "warnings.filterwarnings(\"ignore\")"
      ]
    },
    {
      "cell_type": "code",
      "source": [
        "dados = pd.read_csv(\"/content/Dados-Pesquisa.csv\")"
      ],
      "metadata": {
        "id": "jw5B22qxD0A_"
      },
      "execution_count": 3,
      "outputs": []
    },
    {
      "cell_type": "code",
      "source": [
        "dados.head()"
      ],
      "metadata": {
        "id": "Rci-wZeqEDIl"
      },
      "execution_count": null,
      "outputs": []
    },
    {
      "cell_type": "code",
      "source": [
        "dados.shape"
      ],
      "metadata": {
        "id": "j_fwlELhEMIs"
      },
      "execution_count": null,
      "outputs": []
    },
    {
      "cell_type": "code",
      "source": [
        "dados.head(1-2)"
      ],
      "metadata": {
        "id": "9LYXeqLqFzQW"
      },
      "execution_count": null,
      "outputs": []
    },
    {
      "cell_type": "code",
      "source": [
        "dados.columns"
      ],
      "metadata": {
        "id": "eMZpb_hMGTC4"
      },
      "execution_count": null,
      "outputs": []
    },
    {
      "cell_type": "code",
      "source": [
        "dados.columns.to_list() #lista as colunas da base de dados"
      ],
      "metadata": {
        "id": "a_KYTX5dGlqp"
      },
      "execution_count": null,
      "outputs": []
    },
    {
      "cell_type": "code",
      "source": [
        "dados.columns.values #lista as colunas da base de dados"
      ],
      "metadata": {
        "id": "sfVrweBBG03v"
      },
      "execution_count": null,
      "outputs": []
    },
    {
      "cell_type": "code",
      "source": [
        "df = dados.copy() #copiando dados"
      ],
      "metadata": {
        "id": "knV2HwBIHQB4"
      },
      "execution_count": 12,
      "outputs": []
    },
    {
      "cell_type": "code",
      "source": [
        "dados.isna().sum()"
      ],
      "metadata": {
        "id": "4YGkyCk4HV5w"
      },
      "execution_count": null,
      "outputs": []
    },
    {
      "cell_type": "code",
      "source": [
        "dados.dropna(subset = ['Age'], inplace = True)"
      ],
      "metadata": {
        "id": "Vd4c6GIFJJNJ"
      },
      "execution_count": 21,
      "outputs": []
    },
    {
      "cell_type": "code",
      "source": [
        "dados.isna().sum().values"
      ],
      "metadata": {
        "id": "duVK7ZSFK3xV"
      },
      "execution_count": null,
      "outputs": []
    },
    {
      "cell_type": "code",
      "source": [
        "dados.isna().sum().sum()"
      ],
      "metadata": {
        "id": "AcJcI3wLLpFo"
      },
      "execution_count": null,
      "outputs": []
    },
    {
      "cell_type": "code",
      "source": [
        "dados.isna().sum().to_list()"
      ],
      "metadata": {
        "id": "9aWvyhVnLPpo"
      },
      "execution_count": null,
      "outputs": []
    },
    {
      "cell_type": "code",
      "source": [
        "print('A base de dados apresenta {} linhas e {}colunas'.format(\n",
        "    dados.shape[0], dados.shape[1]\n",
        "))"
      ],
      "metadata": {
        "id": "g7y68yMNLDxA"
      },
      "execution_count": null,
      "outputs": []
    },
    {
      "cell_type": "code",
      "source": [
        "dados.select_dtypes(include='number').head()"
      ],
      "metadata": {
        "id": "0WrkEnwdN1wv"
      },
      "execution_count": null,
      "outputs": []
    },
    {
      "cell_type": "code",
      "source": [
        "dados.select_dtypes(include='object').head()"
      ],
      "metadata": {
        "id": "rePoCaJ1OQCL"
      },
      "execution_count": null,
      "outputs": []
    },
    {
      "cell_type": "code",
      "source": [
        "dados = dados [['Age', 'Gender', 'JobRoleInterest', 'EmploymentField', 'JobRelocateYesNo', 'HoursLearning', 'MoneyForLearning' ]]\n",
        "dados"
      ],
      "metadata": {
        "id": "HJDV_ChKOxox"
      },
      "execution_count": null,
      "outputs": []
    },
    {
      "cell_type": "code",
      "source": [
        "dados = dados.drop_duplicates()"
      ],
      "metadata": {
        "id": "GUxyI9wMPoyq"
      },
      "execution_count": 33,
      "outputs": []
    },
    {
      "cell_type": "code",
      "source": [
        "dados.shape"
      ],
      "metadata": {
        "id": "sGFsAnKoPvRA"
      },
      "execution_count": null,
      "outputs": []
    },
    {
      "cell_type": "code",
      "source": [
        "dados.describe()"
      ],
      "metadata": {
        "id": "EZAs5aJyPxrQ"
      },
      "execution_count": null,
      "outputs": []
    },
    {
      "cell_type": "code",
      "source": [
        "dados.describe(include = 'O')"
      ],
      "metadata": {
        "id": "WoAVXOP9QSDl"
      },
      "execution_count": null,
      "outputs": []
    },
    {
      "cell_type": "code",
      "source": [
        "dados.loc[dados['Age'] > 30] #metodo de localizar valores maiores de 30 anos na tabela Age"
      ],
      "metadata": {
        "id": "jQMQtfu4REOE"
      },
      "execution_count": null,
      "outputs": []
    },
    {
      "cell_type": "code",
      "source": [
        "dados[\"Age\"].unique()"
      ],
      "metadata": {
        "colab": {
          "base_uri": "https://localhost:8080/"
        },
        "id": "TZcFmV0eRa6C",
        "outputId": "61fdba36-89ca-4c42-b1ec-2bfa3f7788a4"
      },
      "execution_count": 43,
      "outputs": [
        {
          "output_type": "execute_result",
          "data": {
            "text/plain": [
              "array([28., 22., 19., 26., 20., 34., 23., 35., 33., 57., 27., 47., 37.,\n",
              "       31., 29., 30., 32., 25., 44., 21., 24., 18., 39., 41., 43., 36.,\n",
              "       40., 38., 16., 46., 15., 14., 50., 49., 45., 55., 51., 17., 53.,\n",
              "       52., 48., 56., 42., 54., 58., 65., 59., 75., 61., 80., 62., 60.,\n",
              "       66., 12., 11., 13., 63., 64., 70., 73., 69., 71., 68., 86., 10.,\n",
              "       67., 72.])"
            ]
          },
          "metadata": {},
          "execution_count": 43
        }
      ]
    },
    {
      "cell_type": "code",
      "source": [
        "dados.Age.unique()"
      ],
      "metadata": {
        "id": "W7ajPOK5RrcD"
      },
      "execution_count": null,
      "outputs": []
    },
    {
      "cell_type": "code",
      "source": [
        "np.sort(dados.Age.unique())"
      ],
      "metadata": {
        "id": "I-6G500cSKXJ"
      },
      "execution_count": null,
      "outputs": []
    }
  ]
}